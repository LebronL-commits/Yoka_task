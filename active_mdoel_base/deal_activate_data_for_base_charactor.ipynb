{
 "cells": [
  {
   "cell_type": "code",
   "execution_count": null,
   "metadata": {},
   "outputs": [],
   "source": [
    "import numpy as np\n",
    "import pandas as pd\n",
    "import xgboost as xgb\n",
    "import sys, gc, os, glob, cysimdjson\n",
    "from tqdm import tqdm\n",
    "from sklearn.utils import shuffle\n",
    "from sklearn.model_selection import train_test_split\n",
    "from multiprocessing import Process\n",
    "from sklearn.metrics import f1_score, precision_score, recall_score, accuracy_score\n",
    "from sklearn.metrics import classification_report\n",
    "############################根据ip配置基础信息########################\n",
    "\n",
    "base_path_config = {\n",
    "    '10.225.136.101':{\n",
    "        'wangweiqing':'/data-p4/sgs_mlai_dev/nbs/',\n",
    "        'louxiaojun':'/home/louxiaojun/file/nbs/'\n",
    "    },\n",
    "    '10.225.21.248':{\n",
    "        'wwq':'/devdata5/sgs_mlai_dev/nbs/',\n",
    "        'lxj':'/home/lxj/sgs_program/nbs/'\n",
    "    },\n",
    "    '10.225.21.203':{\n",
    "        'wwq':'/home/wwq/sgs_mlai_dev/nbs/',\n",
    "        'lxj':'/home/lxj/sgs_program/nbs/'\n",
    "    }\n",
    "}\n",
    "\n",
    "find_data_path_config = {\n",
    "    '10.225.136.101':{\n",
    "        'wangweiqing':'/data-p4/newsimlator/',\n",
    "        'louxiaojun':'/data-p4/newsimlator/'\n",
    "    },\n",
    "    '10.225.21.248':{\n",
    "        'wwq':'/devdata5/newsimlator/',\n",
    "        'lxj':'/devdata5/newsimlator/'\n",
    "    },\n",
    "    '10.225.21.203':{\n",
    "        'wwq':'/devdata2/smilator/',\n",
    "        'lxj':'/devdata2/newsimlator/'\n",
    "    }\n",
    "}\n",
    "def get_server_ip():\n",
    "    for ifaceName in interfaces():\n",
    "        addresses = [i['addr'] for i in ifaddresses(ifaceName).setdefault(AF_INET, [{'addr':'No IP addr'}] )]\n",
    "        if addresses[0] in base_path_config:\n",
    "            return addresses[0]\n",
    "server_ip = get_server_ip()\n",
    "base_path = base_path_config[server_ip][os.getlogin()]\n",
    "find_data_path = find_data_path_config[server_ip][os.getlogin()]\n",
    "sys.path.append(base_path)\n",
    "###########################################################################\n",
    "from public_file.global_func_online import *\n",
    "from public_file.global_define_online import *\n",
    "from xieyi21214new.publicfuc_kf2input import *"
   ]
  },
  {
   "cell_type": "code",
   "execution_count": null,
   "metadata": {},
   "outputs": [
    {
     "name": "stdout",
     "output_type": "stream",
     "text": [
      "lspell: 0\n",
      "10000\n",
      "lspell: 1\n",
      "20000\n",
      "lspell: 3\n",
      "30000\n",
      "lspell: 4\n",
      "40000\n",
      "lspell: 5\n",
      "50000\n",
      "lspell: 6\n",
      "60000\n",
      "lspell: 7\n",
      "70000\n",
      "lspell: 8\n",
      "80000\n",
      "lspell: 9\n",
      "90000\n",
      "lspell: 10\n",
      "100000\n",
      "lspell: 11\n",
      "101868\n",
      "lspell: 12\n",
      "111868\n",
      "lspell: 14\n",
      "121868\n",
      "lspell: 15\n",
      "131868\n",
      "lspell: 16\n",
      "141868\n",
      "lspell: 17\n",
      "151868\n",
      "lspell: 18\n",
      "161868\n",
      "lspell: 19\n",
      "171868\n",
      "lspell: 20\n",
      "181868\n",
      "lspell: 21\n",
      "191868\n",
      "lspell: 22\n",
      "201868\n",
      "lspell: 23\n",
      "211868\n",
      "lspell: 24\n",
      "221868\n",
      "lspell: 25\n",
      "231868\n",
      "lspell: 26\n",
      "241868\n",
      "lspell: 27\n",
      "251868\n",
      "lspell: 28\n",
      "261868\n",
      "lspell: 29\n",
      "271868\n",
      "lspell: 30\n",
      "281868\n",
      "lspell: 82\n",
      "291868\n",
      "lspell: 83\n",
      "301868\n",
      "lspell: 84\n",
      "311868\n",
      "lspell: 85\n",
      "321868\n",
      "lspell: 86\n",
      "331866\n",
      "lspell: 87\n",
      "341682\n",
      "lspell: 88\n",
      "351682\n",
      "lspell: 89\n",
      "360418\n",
      "lspell: 90\n",
      "370418\n",
      "lspell: 200\n",
      "380418\n",
      "lspell: 201\n",
      "388011\n"
     ]
    }
   ],
   "source": [
    "#####一级base武将\n",
    "# 6-马超 15-曹操 17-夏侯惇 18-张辽 19-许诸 23-吕布 210-周泰\n",
    "\n",
    "charid_lst = (6,15,17,18,19,23,210)\n",
    "\n",
    "data_liubei = []\n",
    "write_table_name = 'sgs_kf_map_21214'\n",
    "for schemas in ['sgs_data_schemas_203_mvp']:\n",
    "    for lspell in [0,1,3,4,5,6,7,8,9,10,11,12,14,15,16,17,18,19,20,21,22,23,24,25,26,27,28,29,30,82,83,84,85,86,87,88,89,90,200,201]:\n",
    "        sql_lb = f'select kfpath from {schemas}.{write_table_name} where lcharid in {charid_lst} and lspell = {lspell} limit 10000'\n",
    "        data_liubei.extend(data_from_mysql(schemas, sql_lb, '10.225.136.101')['kfpath'].tolist())\n",
    "        print('lspell:',lspell)\n",
    "        print(len(data_liubei))\n",
    "    # # sql_lb = f'select kfpath from {schemas}.{write_table_name} where lcharid = 1 and lspell = 0 limit 50000'\n",
    "    # data_liubei.extend(data_from_mysql(schemas, sql_lb, '10.225.136.101')['kfpath'].tolist())"
   ]
  },
  {
   "cell_type": "code",
   "execution_count": null,
   "metadata": {},
   "outputs": [
    {
     "name": "stderr",
     "output_type": "stream",
     "text": [
      "100%|██████████████████████████████████████████████████████████████████████████████████████████████████████████████████████████████████████████████████████████████████████████████████████████████████| 388011/388011 [2:36:03<00:00, 41.44it/s]\n"
     ]
    }
   ],
   "source": [
    "inputdata = []\n",
    "parser = cysimdjson.JSONParser()\n",
    "for i in tqdm(range(0, len(data_liubei))):\n",
    "    file = data_liubei[i]\n",
    "    with open(file, 'rb') as f:\n",
    "        jdata = parser.parse(f.read())['SimulatorInfo']\n",
    "    if int(jdata['Actioninfo'][0]['actionPID']) == 21214 and int(jdata['Actioninfo'][0]['actionType']) == 1:\n",
    "        input = deal_base_activate_inputdata(jdata, int(jdata['Actioninfo'][0]['seatId']))\n",
    "        input.append(file)\n",
    "        inputdata.append(input)"
   ]
  },
  {
   "cell_type": "code",
   "execution_count": null,
   "metadata": {},
   "outputs": [
    {
     "data": {
      "text/plain": "175"
     },
     "execution_count": null,
     "metadata": {},
     "output_type": "execute_result"
    }
   ],
   "source": [
    "target_cols = [\n",
    "        'ailive','emery_alive_num','own_alive_number','emery_can_change','team_can_change',\n",
    "        'phase_id', 'curseat', 'curheroid', 'curherosex','curherospell1', 'curherospell2', 'curherospell3', 'curheromaxhp', 'curherohp',\n",
    "        'curcardnum', 'curnum_sha','curnum_huosha',\n",
    "        'curnum_leisha','curnum_shan','curnum_tao','curnum_ssqy','curnum_ghcq','curnum_wgfd','curnum_wzsy','curnum_juedou','curnum_mmlq','curnum_wjqf',\n",
    "        'curnum_flash','curnum_tyjy','curnum_wxkj','curnum_jdsr','curnum_lbss','curnum_bgz','curnum_chitu','curnum_zixin','curnum_dawam','curnum_jueying',\n",
    "        'curnum_dilu','curnum_zhft','curnum_zglv','curnum_cxsgj','curnum_qgj','curnum_qlyyd','curnum_zbsm','curnum_gsf','curnum_fthj','curnum_qlg','curnum_jiu',\n",
    "        'curnum_huogong','curnum_blcd','curnum_tslh','curnum_gdd','curnum_zqys','curnum_tengjia','curnum_byss','curnum_hualiu','curnum_rwd','curnum_hbj',\n",
    "        'curnum_388','curnum_390','curnum_391','curnum_700','curnum_1128','curnum_1129','curnum_1131','curnum_1135',\n",
    "        'curnum_2055','curnum_3060','curnum_3061','curnum_3063','curnum_6008','curnum_6009','curnum_6010',\n",
    "        'curcolor1','curcolor2','curcolor3','curcolor4',\n",
    "       'curarms_spell','curequis_spell','curadd1_spell','curreduce1_spell','curextar_spell',\n",
    "       'curstate_jiu','curstate_flash','curstate_tslh','have_use_sha','cur_can_sha','need_give_up','taojiu_num',\n",
    "\n",
    "       'friseat','friheroid', 'friherosex', 'friherospell1','friherospell2','friherospell3','friheromaxhp', 'friherohp', 'fricardnum',\n",
    "       'frinum_total_sha', 'frinum_shan','frinum_tao', 'frinum_wxkj', 'frinum_jiu','friarms_spell','friequis_spell',\n",
    "       'friadd1_spell','frireduce1_spell','friextar_spell','frijudge_lbss','frijudge_blcd',\n",
    "       'frijudge_flash','fristate_tslh','fri_inrange_attr', 'fri_inrange_jn','fri_have_handcards',\n",
    "\n",
    "       'nextheroid','nextherosex', 'nextherospell1','nextherospell2','nextherospell3','nextheromaxhp','nextherohp','nextcardnum','nextarms_spell','nextequis_spell','nextadd1_spell','nextreduce1_spell','nextextar_spell',\n",
    "       'nextjudge_lbss','nextjudge_blcd','nextjudge_flash','nextstate_tslh','next_inrange_attr','next_inrange_jn','next_have_handcards','next_opposite_sex','next_be_lbss',\n",
    "       'next_be_blcd','next_be_ssqy','next_be_ghcq','next_be_sha','next_be_juedou','next_attr_no_equis_distance',\n",
    "\n",
    "       'otherheroid','otherherosex','otherherospell1','otherherospell2','otherherospell3','otherheromaxhp','otherherohp','othercardnum','otherarms_spell','otherequis_spell','otheradd1_spell','otherreduce1_spell','otherextar_spell',\n",
    "       'otherjudge_lbss','otherjudge_blcd','otherjudge_flash','otherstate_tslh','other_inrange_attr','other_inrange_jn','other_have_handcards','other_opposite_sex','other_be_lbss',\n",
    "       'other_be_blcd','other_be_ssqy','other_be_ghcq','other_be_sha','other_be_juedou','other_attr_no_equis_distance',\n",
    "\n",
    "       'can_jdsr'\n",
    "]\n",
    "target_cols.extend(['action_idx','error','kf'])\n",
    "len(target_cols)"
   ]
  },
  {
   "cell_type": "code",
   "execution_count": null,
   "metadata": {},
   "outputs": [],
   "source": [
    "sgs_data = pd.DataFrame(data=inputdata, columns=target_cols)\n",
    "sgs_data.to_feather(f'/home/lxj/21214new_model/base/base_21214_10000.feather')"
   ]
  },
  {
   "cell_type": "code",
   "execution_count": null,
   "metadata": {},
   "outputs": [
    {
     "data": {
      "text/html": "<div>\n<style scoped>\n    .dataframe tbody tr th:only-of-type {\n        vertical-align: middle;\n    }\n\n    .dataframe tbody tr th {\n        vertical-align: top;\n    }\n\n    .dataframe thead th {\n        text-align: right;\n    }\n</style>\n<table border=\"1\" class=\"dataframe\">\n  <thead>\n    <tr style=\"text-align: right;\">\n      <th></th>\n      <th>ailive</th>\n      <th>emery_alive_num</th>\n      <th>own_alive_number</th>\n      <th>emery_can_change</th>\n      <th>team_can_change</th>\n      <th>phase_id</th>\n      <th>curseat</th>\n      <th>curheroid</th>\n      <th>curherosex</th>\n      <th>curherospell1</th>\n      <th>...</th>\n      <th>other_be_blcd</th>\n      <th>other_be_ssqy</th>\n      <th>other_be_ghcq</th>\n      <th>other_be_sha</th>\n      <th>other_be_juedou</th>\n      <th>other_attr_no_equis_distance</th>\n      <th>can_jdsr</th>\n      <th>action_idx</th>\n      <th>error</th>\n      <th>kf</th>\n    </tr>\n  </thead>\n  <tbody>\n    <tr>\n      <th>0</th>\n      <td>4</td>\n      <td>2</td>\n      <td>2</td>\n      <td>0</td>\n      <td>0</td>\n      <td>4</td>\n      <td>0</td>\n      <td>18</td>\n      <td>1</td>\n      <td>44</td>\n      <td>...</td>\n      <td>1</td>\n      <td>1</td>\n      <td>1</td>\n      <td>0</td>\n      <td>0</td>\n      <td>1</td>\n      <td>1</td>\n      <td>0</td>\n      <td>0</td>\n      <td>/devdata1/mvpsimulator/32/1/SimulatorInfo_2121...</td>\n    </tr>\n    <tr>\n      <th>1</th>\n      <td>3</td>\n      <td>1</td>\n      <td>2</td>\n      <td>0</td>\n      <td>0</td>\n      <td>4</td>\n      <td>0</td>\n      <td>18</td>\n      <td>1</td>\n      <td>44</td>\n      <td>...</td>\n      <td>1</td>\n      <td>1</td>\n      <td>1</td>\n      <td>0</td>\n      <td>0</td>\n      <td>1</td>\n      <td>0</td>\n      <td>0</td>\n      <td>0</td>\n      <td>/devdata1/mvpsimulator/32/1/SimulatorInfo_2121...</td>\n    </tr>\n    <tr>\n      <th>2</th>\n      <td>3</td>\n      <td>1</td>\n      <td>2</td>\n      <td>0</td>\n      <td>0</td>\n      <td>4</td>\n      <td>0</td>\n      <td>18</td>\n      <td>1</td>\n      <td>44</td>\n      <td>...</td>\n      <td>1</td>\n      <td>1</td>\n      <td>1</td>\n      <td>0</td>\n      <td>0</td>\n      <td>1</td>\n      <td>0</td>\n      <td>0</td>\n      <td>0</td>\n      <td>/devdata1/mvpsimulator/32/1/SimulatorInfo_2121...</td>\n    </tr>\n    <tr>\n      <th>3</th>\n      <td>2</td>\n      <td>1</td>\n      <td>1</td>\n      <td>0</td>\n      <td>0</td>\n      <td>4</td>\n      <td>0</td>\n      <td>18</td>\n      <td>1</td>\n      <td>44</td>\n      <td>...</td>\n      <td>1</td>\n      <td>1</td>\n      <td>1</td>\n      <td>0</td>\n      <td>0</td>\n      <td>1</td>\n      <td>0</td>\n      <td>0</td>\n      <td>0</td>\n      <td>/devdata1/mvpsimulator/32/1/SimulatorInfo_2121...</td>\n    </tr>\n    <tr>\n      <th>4</th>\n      <td>2</td>\n      <td>1</td>\n      <td>1</td>\n      <td>0</td>\n      <td>0</td>\n      <td>4</td>\n      <td>0</td>\n      <td>18</td>\n      <td>1</td>\n      <td>44</td>\n      <td>...</td>\n      <td>1</td>\n      <td>1</td>\n      <td>1</td>\n      <td>0</td>\n      <td>0</td>\n      <td>1</td>\n      <td>0</td>\n      <td>0</td>\n      <td>0</td>\n      <td>/devdata1/mvpsimulator/32/1/SimulatorInfo_2121...</td>\n    </tr>\n    <tr>\n      <th>...</th>\n      <td>...</td>\n      <td>...</td>\n      <td>...</td>\n      <td>...</td>\n      <td>...</td>\n      <td>...</td>\n      <td>...</td>\n      <td>...</td>\n      <td>...</td>\n      <td>...</td>\n      <td>...</td>\n      <td>...</td>\n      <td>...</td>\n      <td>...</td>\n      <td>...</td>\n      <td>...</td>\n      <td>...</td>\n      <td>...</td>\n      <td>...</td>\n      <td>...</td>\n      <td>...</td>\n    </tr>\n    <tr>\n      <th>385929</th>\n      <td>2</td>\n      <td>1</td>\n      <td>1</td>\n      <td>0</td>\n      <td>0</td>\n      <td>4</td>\n      <td>0</td>\n      <td>23</td>\n      <td>1</td>\n      <td>66</td>\n      <td>...</td>\n      <td>1</td>\n      <td>0</td>\n      <td>1</td>\n      <td>0</td>\n      <td>0</td>\n      <td>0</td>\n      <td>0</td>\n      <td>69</td>\n      <td>0</td>\n      <td>/devdata1/mvpsimulator/38/68/SimulatorInfo_212...</td>\n    </tr>\n    <tr>\n      <th>385930</th>\n      <td>2</td>\n      <td>1</td>\n      <td>1</td>\n      <td>0</td>\n      <td>0</td>\n      <td>4</td>\n      <td>0</td>\n      <td>17</td>\n      <td>1</td>\n      <td>49</td>\n      <td>...</td>\n      <td>1</td>\n      <td>1</td>\n      <td>1</td>\n      <td>0</td>\n      <td>0</td>\n      <td>1</td>\n      <td>1</td>\n      <td>69</td>\n      <td>0</td>\n      <td>/devdata1/mvpsimulator/38/68/SimulatorInfo_212...</td>\n    </tr>\n    <tr>\n      <th>385931</th>\n      <td>3</td>\n      <td>1</td>\n      <td>2</td>\n      <td>0</td>\n      <td>0</td>\n      <td>4</td>\n      <td>0</td>\n      <td>18</td>\n      <td>1</td>\n      <td>44</td>\n      <td>...</td>\n      <td>0</td>\n      <td>0</td>\n      <td>0</td>\n      <td>0</td>\n      <td>0</td>\n      <td>0</td>\n      <td>0</td>\n      <td>69</td>\n      <td>0</td>\n      <td>/devdata1/mvpsimulator/38/68/SimulatorInfo_212...</td>\n    </tr>\n    <tr>\n      <th>385932</th>\n      <td>3</td>\n      <td>1</td>\n      <td>2</td>\n      <td>0</td>\n      <td>0</td>\n      <td>4</td>\n      <td>0</td>\n      <td>6</td>\n      <td>1</td>\n      <td>70</td>\n      <td>...</td>\n      <td>0</td>\n      <td>0</td>\n      <td>0</td>\n      <td>0</td>\n      <td>0</td>\n      <td>0</td>\n      <td>0</td>\n      <td>69</td>\n      <td>0</td>\n      <td>/devdata1/mvpsimulator/38/68/SimulatorInfo_212...</td>\n    </tr>\n    <tr>\n      <th>385933</th>\n      <td>4</td>\n      <td>2</td>\n      <td>2</td>\n      <td>0</td>\n      <td>0</td>\n      <td>4</td>\n      <td>1</td>\n      <td>17</td>\n      <td>1</td>\n      <td>49</td>\n      <td>...</td>\n      <td>1</td>\n      <td>1</td>\n      <td>1</td>\n      <td>0</td>\n      <td>0</td>\n      <td>1</td>\n      <td>1</td>\n      <td>69</td>\n      <td>0</td>\n      <td>/devdata1/mvpsimulator/38/68/SimulatorInfo_212...</td>\n    </tr>\n  </tbody>\n</table>\n<p>385934 rows × 175 columns</p>\n</div>",
      "text/plain": "        ailive  emery_alive_num  own_alive_number  emery_can_change  \\\n0            4                2                 2                 0   \n1            3                1                 2                 0   \n2            3                1                 2                 0   \n3            2                1                 1                 0   \n4            2                1                 1                 0   \n...        ...              ...               ...               ...   \n385929       2                1                 1                 0   \n385930       2                1                 1                 0   \n385931       3                1                 2                 0   \n385932       3                1                 2                 0   \n385933       4                2                 2                 0   \n\n        team_can_change  phase_id  curseat  curheroid  curherosex  \\\n0                     0         4        0         18           1   \n1                     0         4        0         18           1   \n2                     0         4        0         18           1   \n3                     0         4        0         18           1   \n4                     0         4        0         18           1   \n...                 ...       ...      ...        ...         ...   \n385929                0         4        0         23           1   \n385930                0         4        0         17           1   \n385931                0         4        0         18           1   \n385932                0         4        0          6           1   \n385933                0         4        1         17           1   \n\n        curherospell1  ...  other_be_blcd  other_be_ssqy  other_be_ghcq  \\\n0                  44  ...              1              1              1   \n1                  44  ...              1              1              1   \n2                  44  ...              1              1              1   \n3                  44  ...              1              1              1   \n4                  44  ...              1              1              1   \n...               ...  ...            ...            ...            ...   \n385929             66  ...              1              0              1   \n385930             49  ...              1              1              1   \n385931             44  ...              0              0              0   \n385932             70  ...              0              0              0   \n385933             49  ...              1              1              1   \n\n        other_be_sha  other_be_juedou  other_attr_no_equis_distance  can_jdsr  \\\n0                  0                0                             1         1   \n1                  0                0                             1         0   \n2                  0                0                             1         0   \n3                  0                0                             1         0   \n4                  0                0                             1         0   \n...              ...              ...                           ...       ...   \n385929             0                0                             0         0   \n385930             0                0                             1         1   \n385931             0                0                             0         0   \n385932             0                0                             0         0   \n385933             0                0                             1         1   \n\n        action_idx  error                                                 kf  \n0                0      0  /devdata1/mvpsimulator/32/1/SimulatorInfo_2121...  \n1                0      0  /devdata1/mvpsimulator/32/1/SimulatorInfo_2121...  \n2                0      0  /devdata1/mvpsimulator/32/1/SimulatorInfo_2121...  \n3                0      0  /devdata1/mvpsimulator/32/1/SimulatorInfo_2121...  \n4                0      0  /devdata1/mvpsimulator/32/1/SimulatorInfo_2121...  \n...            ...    ...                                                ...  \n385929          69      0  /devdata1/mvpsimulator/38/68/SimulatorInfo_212...  \n385930          69      0  /devdata1/mvpsimulator/38/68/SimulatorInfo_212...  \n385931          69      0  /devdata1/mvpsimulator/38/68/SimulatorInfo_212...  \n385932          69      0  /devdata1/mvpsimulator/38/68/SimulatorInfo_212...  \n385933          69      0  /devdata1/mvpsimulator/38/68/SimulatorInfo_212...  \n\n[385934 rows x 175 columns]"
     },
     "execution_count": null,
     "metadata": {},
     "output_type": "execute_result"
    }
   ],
   "source": [
    "sgs_data"
   ]
  }
 ],
 "metadata": {
  "kernelspec": {
   "display_name": "python3",
   "language": "python",
   "name": "python3"
  }
 },
 "nbformat": 4,
 "nbformat_minor": 0
}